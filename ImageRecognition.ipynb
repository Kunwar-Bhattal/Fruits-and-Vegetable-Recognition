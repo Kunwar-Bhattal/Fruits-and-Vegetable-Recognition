{
  "nbformat": 4,
  "nbformat_minor": 0,
  "metadata": {
    "colab": {
      "provenance": [],
      "collapsed_sections": [
        "EyM8prkcSqZY",
        "aLunhMhxawNE",
        "BZ3WNsPhfa5l"
      ],
      "mount_file_id": "1IqmLkHMVcbxDZcP-FTUN0kZEs-6polcv",
      "authorship_tag": "ABX9TyM17LwzqTYBRtYEPottiRN5",
      "include_colab_link": true
    },
    "kernelspec": {
      "name": "python3",
      "display_name": "Python 3"
    },
    "language_info": {
      "name": "python"
    }
  },
  "cells": [
    {
      "cell_type": "markdown",
      "metadata": {
        "id": "view-in-github",
        "colab_type": "text"
      },
      "source": [
        "<a href=\"https://colab.research.google.com/github/Kunwar-Bhattal/Fruits-and-Vegetable-Recognition/blob/main/ImageRecognition.ipynb\" target=\"_parent\"><img src=\"https://colab.research.google.com/assets/colab-badge.svg\" alt=\"Open In Colab\"/></a>"
      ]
    },
    {
      "cell_type": "markdown",
      "source": [
        "## **Importing Data from Kaggle**"
      ],
      "metadata": {
        "id": "QNfGdCygSgxB"
      }
    },
    {
      "cell_type": "code",
      "execution_count": 20,
      "metadata": {
        "id": "F7SOzKXUGQm4"
      },
      "outputs": [],
      "source": [
        "# !kaggle datasets download -d kritikseth/fruit-and-vegetable-image-recognition"
      ]
    },
    {
      "cell_type": "code",
      "source": [
        "'''\n",
        "import zipfile\n",
        "\n",
        "# Specify the path to your downloaded ZIP file\n",
        "zip_file_path = '/content/fruit-and-vegetable-image-recognition.zip'\n",
        "\n",
        "# Specify the directory where you want to extract the contents\n",
        "extracted_dir = '/content'\n",
        "\n",
        "# Extract the contents\n",
        "with zipfile.ZipFile(zip_file_path, 'r') as zip_ref:\n",
        "    zip_ref.extractall(extracted_dir)\n",
        "\n",
        "print(f\"Contents extracted to {extracted_dir}\")\n",
        "'''"
      ],
      "metadata": {
        "id": "LguJS-bwLt9r",
        "colab": {
          "base_uri": "https://localhost:8080/",
          "height": 72
        },
        "outputId": "a6477e83-a9a7-49e6-f197-7780978f1e21"
      },
      "execution_count": 2,
      "outputs": [
        {
          "output_type": "execute_result",
          "data": {
            "text/plain": [
              "'\\nimport zipfile\\n\\n# Specify the path to your downloaded ZIP file\\nzip_file_path = \\'/content/fruit-and-vegetable-image-recognition.zip\\'\\n\\n# Specify the directory where you want to extract the contents\\nextracted_dir = \\'/content\\'\\n\\n# Extract the contents\\nwith zipfile.ZipFile(zip_file_path, \\'r\\') as zip_ref:\\n    zip_ref.extractall(extracted_dir)\\n\\nprint(f\"Contents extracted to {extracted_dir}\")\\n'"
            ],
            "application/vnd.google.colaboratory.intrinsic+json": {
              "type": "string"
            }
          },
          "metadata": {},
          "execution_count": 2
        }
      ]
    },
    {
      "cell_type": "code",
      "source": [
        "# from google.colab import drive\n",
        "# drive.mount('/content/drive')"
      ],
      "metadata": {
        "id": "dYNdFE-gSzXD"
      },
      "execution_count": 3,
      "outputs": []
    },
    {
      "cell_type": "markdown",
      "source": [
        "## **Importing Libraries**"
      ],
      "metadata": {
        "id": "EyM8prkcSqZY"
      }
    },
    {
      "cell_type": "code",
      "source": [
        "import pandas as pd\n",
        "import numpy as np\n",
        "import tensorflow as tf\n",
        "import matplotlib.pyplot as plt\n",
        "# import sklearn as sns"
      ],
      "metadata": {
        "id": "P8rsl98FLYnz"
      },
      "execution_count": 4,
      "outputs": []
    },
    {
      "cell_type": "markdown",
      "source": [
        "## **Data Preprocessing**"
      ],
      "metadata": {
        "id": "QpIAm6GBUSIY"
      }
    },
    {
      "cell_type": "code",
      "source": [
        "training_data = tf.keras.utils.image_dataset_from_directory(\n",
        "    '/content/drive/MyDrive/ML_Data/FruitVegetablesData/train',\n",
        "    labels = \"inferred\",\n",
        "    label_mode = 'categorical',\n",
        "    class_names = None,\n",
        "    color_mode = 'rgb',\n",
        "    batch_size = 32,\n",
        "    image_size = (64,64),\n",
        "    shuffle = True,\n",
        "    seed = None,\n",
        "    validation_split = None,\n",
        "    subset = None,\n",
        "    interpolation = 'bilinear',\n",
        "    follow_links = False,\n",
        "    crop_to_aspect_ratio = False\n",
        "    )"
      ],
      "metadata": {
        "id": "ymIszwK2Tc9x",
        "colab": {
          "base_uri": "https://localhost:8080/"
        },
        "outputId": "da0859ee-2d25-416e-cb14-14051538d72d"
      },
      "execution_count": 5,
      "outputs": [
        {
          "output_type": "stream",
          "name": "stdout",
          "text": [
            "Found 3115 files belonging to 36 classes.\n"
          ]
        }
      ]
    },
    {
      "cell_type": "markdown",
      "source": [
        "## **Validating Image Preprocessing**"
      ],
      "metadata": {
        "id": "aLunhMhxawNE"
      }
    },
    {
      "cell_type": "code",
      "source": [
        "validation_data = tf.keras.utils.image_dataset_from_directory(\n",
        "    '/content/drive/MyDrive/ML_Data/FruitVegetablesData/validation',\n",
        "    labels = \"inferred\",\n",
        "    label_mode = 'categorical',\n",
        "    class_names = None,\n",
        "    color_mode = 'rgb',\n",
        "    batch_size = 32,\n",
        "    image_size = (64,64),\n",
        "    shuffle = True,\n",
        "    seed = None,\n",
        "    validation_split = None,\n",
        "    subset = None,\n",
        "    interpolation = 'bilinear',\n",
        "    follow_links = False,\n",
        "    crop_to_aspect_ratio = False\n",
        "    )"
      ],
      "metadata": {
        "id": "IKBmxlpiY_bJ",
        "colab": {
          "base_uri": "https://localhost:8080/"
        },
        "outputId": "e888e3c2-49de-4764-b319-33785e2136be"
      },
      "execution_count": 6,
      "outputs": [
        {
          "output_type": "stream",
          "name": "stdout",
          "text": [
            "Found 351 files belonging to 36 classes.\n"
          ]
        }
      ]
    },
    {
      "cell_type": "markdown",
      "source": [
        "## **Building Model**"
      ],
      "metadata": {
        "id": "BZ3WNsPhfa5l"
      }
    },
    {
      "cell_type": "code",
      "source": [
        "cnn = tf.keras.models.Sequential()\n",
        "# Convolution Layer:\n",
        "cnn.add(tf.keras.layers.Conv2D(filters=64, kernel_size=3, activation='relu', input_shape=[64,64,3]))\n",
        "# Pooling Layer:  ()\n",
        "cnn.add(tf.keras.layers.MaxPool2D(pool_size=2,strides=2))"
      ],
      "metadata": {
        "id": "prZYwn2SbY__"
      },
      "execution_count": 7,
      "outputs": []
    },
    {
      "cell_type": "code",
      "source": [
        "# Redoing the above to add more Layers\n",
        "cnn.add(tf.keras.layers.Conv2D(filters=64, kernel_size=3, activation='relu'))\n",
        "cnn.add(tf.keras.layers.MaxPool2D(pool_size=2,strides=2))\n",
        "\n",
        "cnn.add(tf.keras.layers.Dropout(0.5))\n",
        "cnn.add(tf.keras.layers.Flatten())\n",
        "cnn.add(tf.keras.layers.Dense(units=128,activation = 'relu'))\n",
        "# Output(final) Layer:\n",
        "cnn.add(tf.keras.layers.Dense(units=36,activation ='softmax' ))"
      ],
      "metadata": {
        "id": "cPFLtAH0hNir"
      },
      "execution_count": 8,
      "outputs": []
    },
    {
      "cell_type": "markdown",
      "source": [
        "## **Compiling & Training**"
      ],
      "metadata": {
        "id": "dEYhZmd-kkHw"
      }
    },
    {
      "cell_type": "code",
      "source": [
        "cnn.compile(optimizer='rmsprop',loss='categorical_crossentropy',metrics=['accuracy'])"
      ],
      "metadata": {
        "id": "KTYEQmF9hu44"
      },
      "execution_count": 9,
      "outputs": []
    },
    {
      "cell_type": "code",
      "source": [
        "training_history = cnn.fit(x=training_data, validation_data=validation_data,epochs=30) # epochs were set to 30 but took too long."
      ],
      "metadata": {
        "id": "LtAW4iZzlbdv",
        "colab": {
          "base_uri": "https://localhost:8080/"
        },
        "outputId": "01a74f46-9b73-417e-b41f-a5b2fbbdda8a"
      },
      "execution_count": 10,
      "outputs": [
        {
          "output_type": "stream",
          "name": "stdout",
          "text": [
            "Epoch 1/30\n",
            "98/98 [==============================] - 108s 1s/step - loss: 10.4565 - accuracy: 0.0376 - val_loss: 3.4409 - val_accuracy: 0.1054\n",
            "Epoch 2/30\n",
            "98/98 [==============================] - 117s 1s/step - loss: 4.1286 - accuracy: 0.0639 - val_loss: 3.2908 - val_accuracy: 0.1738\n",
            "Epoch 3/30\n",
            "98/98 [==============================] - 107s 1s/step - loss: 3.7444 - accuracy: 0.0947 - val_loss: 14.8656 - val_accuracy: 0.0399\n",
            "Epoch 4/30\n",
            "98/98 [==============================] - 107s 1s/step - loss: 3.7821 - accuracy: 0.1339 - val_loss: 2.9299 - val_accuracy: 0.2222\n",
            "Epoch 5/30\n",
            "98/98 [==============================] - 108s 1s/step - loss: 3.9135 - accuracy: 0.1724 - val_loss: 2.9468 - val_accuracy: 0.2393\n",
            "Epoch 6/30\n",
            "98/98 [==============================] - 108s 1s/step - loss: 3.3931 - accuracy: 0.2138 - val_loss: 2.5552 - val_accuracy: 0.4131\n",
            "Epoch 7/30\n",
            "98/98 [==============================] - 108s 1s/step - loss: 3.1451 - accuracy: 0.2754 - val_loss: 2.4049 - val_accuracy: 0.4217\n",
            "Epoch 8/30\n",
            "98/98 [==============================] - 106s 1s/step - loss: 2.8795 - accuracy: 0.3018 - val_loss: 2.3027 - val_accuracy: 0.4672\n",
            "Epoch 9/30\n",
            "98/98 [==============================] - 111s 1s/step - loss: 2.8855 - accuracy: 0.3313 - val_loss: 2.3898 - val_accuracy: 0.4530\n",
            "Epoch 10/30\n",
            "98/98 [==============================] - 106s 1s/step - loss: 2.4841 - accuracy: 0.3833 - val_loss: 1.8124 - val_accuracy: 0.5926\n",
            "Epoch 11/30\n",
            "98/98 [==============================] - 108s 1s/step - loss: 2.3821 - accuracy: 0.4154 - val_loss: 2.6599 - val_accuracy: 0.3989\n",
            "Epoch 12/30\n",
            "98/98 [==============================] - 107s 1s/step - loss: 2.5378 - accuracy: 0.4462 - val_loss: 1.8762 - val_accuracy: 0.6467\n",
            "Epoch 13/30\n",
            "98/98 [==============================] - 108s 1s/step - loss: 2.6470 - accuracy: 0.4928 - val_loss: 1.8995 - val_accuracy: 0.6439\n",
            "Epoch 14/30\n",
            "98/98 [==============================] - 109s 1s/step - loss: 2.0173 - accuracy: 0.5204 - val_loss: 1.8261 - val_accuracy: 0.6610\n",
            "Epoch 15/30\n",
            "98/98 [==============================] - 107s 1s/step - loss: 2.1221 - accuracy: 0.5547 - val_loss: 1.5706 - val_accuracy: 0.7350\n",
            "Epoch 16/30\n",
            "98/98 [==============================] - 109s 1s/step - loss: 1.8310 - accuracy: 0.5788 - val_loss: 1.4845 - val_accuracy: 0.7236\n",
            "Epoch 17/30\n",
            "98/98 [==============================] - 107s 1s/step - loss: 1.6483 - accuracy: 0.6151 - val_loss: 1.2747 - val_accuracy: 0.7692\n",
            "Epoch 18/30\n",
            "98/98 [==============================] - 109s 1s/step - loss: 1.5683 - accuracy: 0.6340 - val_loss: 1.3958 - val_accuracy: 0.7863\n",
            "Epoch 19/30\n",
            "98/98 [==============================] - 106s 1s/step - loss: 1.4525 - accuracy: 0.6655 - val_loss: 1.4605 - val_accuracy: 0.7920\n",
            "Epoch 20/30\n",
            "98/98 [==============================] - 118s 1s/step - loss: 1.3985 - accuracy: 0.6982 - val_loss: 1.1844 - val_accuracy: 0.7920\n",
            "Epoch 21/30\n",
            "98/98 [==============================] - 107s 1s/step - loss: 1.3762 - accuracy: 0.7005 - val_loss: 1.0788 - val_accuracy: 0.8348\n",
            "Epoch 22/30\n",
            "98/98 [==============================] - 109s 1s/step - loss: 1.3858 - accuracy: 0.7149 - val_loss: 1.5356 - val_accuracy: 0.7493\n",
            "Epoch 23/30\n",
            "98/98 [==============================] - 108s 1s/step - loss: 1.2380 - accuracy: 0.7278 - val_loss: 1.1441 - val_accuracy: 0.8433\n",
            "Epoch 24/30\n",
            "98/98 [==============================] - 106s 1s/step - loss: 1.1095 - accuracy: 0.7518 - val_loss: 1.1324 - val_accuracy: 0.8490\n",
            "Epoch 25/30\n",
            "98/98 [==============================] - 106s 1s/step - loss: 1.1906 - accuracy: 0.7499 - val_loss: 1.3517 - val_accuracy: 0.8632\n",
            "Epoch 26/30\n",
            "98/98 [==============================] - 106s 1s/step - loss: 1.2526 - accuracy: 0.7621 - val_loss: 1.2099 - val_accuracy: 0.8490\n",
            "Epoch 27/30\n",
            "98/98 [==============================] - 107s 1s/step - loss: 1.2212 - accuracy: 0.7679 - val_loss: 1.0369 - val_accuracy: 0.8775\n",
            "Epoch 28/30\n",
            "98/98 [==============================] - 104s 1s/step - loss: 1.3415 - accuracy: 0.7612 - val_loss: 1.6033 - val_accuracy: 0.8661\n",
            "Epoch 29/30\n",
            "98/98 [==============================] - 107s 1s/step - loss: 1.1672 - accuracy: 0.7862 - val_loss: 1.1465 - val_accuracy: 0.8746\n",
            "Epoch 30/30\n",
            "98/98 [==============================] - 108s 1s/step - loss: 1.2538 - accuracy: 0.8006 - val_loss: 2.0556 - val_accuracy: 0.8860\n"
          ]
        }
      ]
    },
    {
      "cell_type": "code",
      "source": [
        "cnn.save('/content/drive/MyDrive/ML_Models/FruitVegetables/trained_model_ImageRecognition.h5')"
      ],
      "metadata": {
        "id": "Zbi6qTEB8514",
        "colab": {
          "base_uri": "https://localhost:8080/"
        },
        "outputId": "d42adf15-e051-4498-8036-ee7c7682741c"
      },
      "execution_count": 11,
      "outputs": [
        {
          "output_type": "stream",
          "name": "stderr",
          "text": [
            "/usr/local/lib/python3.10/dist-packages/keras/src/engine/training.py:3103: UserWarning: You are saving your model as an HDF5 file via `model.save()`. This file format is considered legacy. We recommend using instead the native Keras format, e.g. `model.save('my_model.keras')`.\n",
            "  saving_api.save_model(\n"
          ]
        }
      ]
    },
    {
      "cell_type": "markdown",
      "source": [
        "## **Saving in Json File**"
      ],
      "metadata": {
        "id": "nv0EkTSI-Mrz"
      }
    },
    {
      "cell_type": "code",
      "source": [
        "training_history.history"
      ],
      "metadata": {
        "collapsed": true,
        "id": "2rnxqxFY-t-9",
        "colab": {
          "base_uri": "https://localhost:8080/"
        },
        "outputId": "323cf002-ba40-4ddc-daca-c30343076fbc"
      },
      "execution_count": 12,
      "outputs": [
        {
          "output_type": "execute_result",
          "data": {
            "text/plain": [
              "{'loss': [10.456496238708496,\n",
              "  4.128554344177246,\n",
              "  3.7443747520446777,\n",
              "  3.7821223735809326,\n",
              "  3.9134957790374756,\n",
              "  3.393052816390991,\n",
              "  3.1451213359832764,\n",
              "  2.8795151710510254,\n",
              "  2.8854801654815674,\n",
              "  2.4840774536132812,\n",
              "  2.3821234703063965,\n",
              "  2.5378010272979736,\n",
              "  2.6469500064849854,\n",
              "  2.0173091888427734,\n",
              "  2.1220736503601074,\n",
              "  1.8310316801071167,\n",
              "  1.6482888460159302,\n",
              "  1.5683279037475586,\n",
              "  1.4525437355041504,\n",
              "  1.3985435962677002,\n",
              "  1.3761565685272217,\n",
              "  1.385840892791748,\n",
              "  1.2380021810531616,\n",
              "  1.109537959098816,\n",
              "  1.1906331777572632,\n",
              "  1.2525626420974731,\n",
              "  1.2211501598358154,\n",
              "  1.3414509296417236,\n",
              "  1.1671580076217651,\n",
              "  1.253836989402771],\n",
              " 'accuracy': [0.03756019100546837,\n",
              "  0.0638844296336174,\n",
              "  0.09470304846763611,\n",
              "  0.13386838138103485,\n",
              "  0.17239165306091309,\n",
              "  0.21380417048931122,\n",
              "  0.27544140815734863,\n",
              "  0.30176565051078796,\n",
              "  0.33130016922950745,\n",
              "  0.3833065927028656,\n",
              "  0.41540929675102234,\n",
              "  0.44622793793678284,\n",
              "  0.49277690052986145,\n",
              "  0.520385205745697,\n",
              "  0.5547351241111755,\n",
              "  0.5788121819496155,\n",
              "  0.6150882840156555,\n",
              "  0.6340289115905762,\n",
              "  0.6654895544052124,\n",
              "  0.6982343792915344,\n",
              "  0.7004815340042114,\n",
              "  0.7149277925491333,\n",
              "  0.7277688384056091,\n",
              "  0.7518458962440491,\n",
              "  0.7499197721481323,\n",
              "  0.7621187567710876,\n",
              "  0.7678972482681274,\n",
              "  0.7611557245254517,\n",
              "  0.7861958146095276,\n",
              "  0.8006420731544495],\n",
              " 'val_loss': [3.440929412841797,\n",
              "  3.2908222675323486,\n",
              "  14.865623474121094,\n",
              "  2.929893970489502,\n",
              "  2.946841239929199,\n",
              "  2.555208444595337,\n",
              "  2.4049232006073,\n",
              "  2.3027312755584717,\n",
              "  2.389768362045288,\n",
              "  1.812436819076538,\n",
              "  2.659930467605591,\n",
              "  1.8762060403823853,\n",
              "  1.899471402168274,\n",
              "  1.8260945081710815,\n",
              "  1.5705987215042114,\n",
              "  1.4844917058944702,\n",
              "  1.2747063636779785,\n",
              "  1.3957916498184204,\n",
              "  1.4605481624603271,\n",
              "  1.1843695640563965,\n",
              "  1.0788029432296753,\n",
              "  1.5356453657150269,\n",
              "  1.1440749168395996,\n",
              "  1.132436990737915,\n",
              "  1.351745367050171,\n",
              "  1.2098982334136963,\n",
              "  1.0369393825531006,\n",
              "  1.6033191680908203,\n",
              "  1.1465063095092773,\n",
              "  2.0555593967437744],\n",
              " 'val_accuracy': [0.10541310906410217,\n",
              "  0.17378917336463928,\n",
              "  0.03988603875041008,\n",
              "  0.2222222238779068,\n",
              "  0.23931623995304108,\n",
              "  0.41310539841651917,\n",
              "  0.4216524362564087,\n",
              "  0.4672364592552185,\n",
              "  0.45299145579338074,\n",
              "  0.5925925970077515,\n",
              "  0.3988603949546814,\n",
              "  0.6467236280441284,\n",
              "  0.6438746452331543,\n",
              "  0.6609686613082886,\n",
              "  0.7350427508354187,\n",
              "  0.7236467003822327,\n",
              "  0.7692307829856873,\n",
              "  0.7863247990608215,\n",
              "  0.7920227646827698,\n",
              "  0.7920227646827698,\n",
              "  0.8347578644752502,\n",
              "  0.7492877244949341,\n",
              "  0.8433048725128174,\n",
              "  0.8490028381347656,\n",
              "  0.8632478713989258,\n",
              "  0.8490028381347656,\n",
              "  0.8774929046630859,\n",
              "  0.8660968542098999,\n",
              "  0.874643862247467,\n",
              "  0.8860399127006531]}"
            ]
          },
          "metadata": {},
          "execution_count": 12
        }
      ]
    },
    {
      "cell_type": "code",
      "source": [
        "import json\n",
        "with open('/content/drive/MyDrive/ML_Models/FruitVegetables/training_hist.json','w') as f:\n",
        "  json.dump(training_history.history,f)"
      ],
      "metadata": {
        "id": "-lynES_N9tRI"
      },
      "execution_count": 13,
      "outputs": []
    },
    {
      "cell_type": "code",
      "source": [
        "print(training_history.history.keys())"
      ],
      "metadata": {
        "id": "29ASXQmp_Uly",
        "colab": {
          "base_uri": "https://localhost:8080/"
        },
        "outputId": "4cd4c229-d2c9-4e76-abbd-cdf41b6c8b39"
      },
      "execution_count": 14,
      "outputs": [
        {
          "output_type": "stream",
          "name": "stdout",
          "text": [
            "dict_keys(['loss', 'accuracy', 'val_loss', 'val_accuracy'])\n"
          ]
        }
      ]
    },
    {
      "cell_type": "markdown",
      "source": [
        "## **Calculating Accuracy of model**"
      ],
      "metadata": {
        "id": "fMXoLLAi_f4G"
      }
    },
    {
      "cell_type": "code",
      "source": [
        "print(\"Validation set Accuracy: \", training_history.history['val_accuracy'][-1])"
      ],
      "metadata": {
        "id": "s6VrcKJr_dCj",
        "colab": {
          "base_uri": "https://localhost:8080/"
        },
        "outputId": "b4cd899d-2976-4f34-ca6d-8ee3f4467d78"
      },
      "execution_count": 15,
      "outputs": [
        {
          "output_type": "stream",
          "name": "stdout",
          "text": [
            "Validation set Accuracy:  0.8860399127006531\n"
          ]
        }
      ]
    },
    {
      "cell_type": "markdown",
      "source": [
        "## **Visualising Training Stats:**"
      ],
      "metadata": {
        "id": "4YxDekEsVulA"
      }
    },
    {
      "cell_type": "code",
      "source": [
        "epochs = [i for i in range(1,31)]\n",
        "plt.plot(epochs,training_history.history['accuracy'],color= 'red')\n",
        "plt.title(\"Visualisation of Training Accuracy Results:\")\n",
        "plt.xlabel(\"Epochs\")\n",
        "plt.ylabel(\"Accuracy\")\n",
        "plt.show()"
      ],
      "metadata": {
        "colab": {
          "base_uri": "https://localhost:8080/",
          "height": 472
        },
        "id": "Vbb6Ldy5VdVk",
        "outputId": "0f79ce23-cefa-4176-b4ac-bc28084adc9f"
      },
      "execution_count": 18,
      "outputs": [
        {
          "output_type": "display_data",
          "data": {
            "text/plain": [
              "<Figure size 640x480 with 1 Axes>"
            ],
            "image/png": "[encoded data removed]"
          },
          "metadata": {}
        }
      ]
    },
    {
      "cell_type": "code",
      "source": [
        "plt.plot(epochs,training_history.history['val_accuracy'],color= 'blue')\n",
        "plt.title(\"Visualisation of Training Accuracy Results:\")\n",
        "plt.xlabel(\"Epochs\")\n",
        "plt.ylabel(\"Val_Accuracy\")\n",
        "plt.show()"
      ],
      "metadata": {
        "colab": {
          "base_uri": "https://localhost:8080/",
          "height": 472
        },
        "id": "Y79uMzzqYcpw",
        "outputId": "a5d2a34e-4e65-4abd-833e-165bc4cb56c5"
      },
      "execution_count": 19,
      "outputs": [
        {
          "output_type": "display_data",
          "data": {
            "text/plain": [
              "<Figure size 640x480 with 1 Axes>"
            ],
            "image/png": "[encoded data removed]"
          },
          "metadata": {}
        }
      ]
    }
  ]
}